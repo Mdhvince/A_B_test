{
 "cells": [
  {
   "cell_type": "markdown",
   "metadata": {},
   "source": [
    "# A/B Test \n",
    "\n",
    "Use it in order to test a new product, new feature online.\n",
    "\n",
    "**Steps**:\n",
    "- Randomly take 2 sets of users: 1 for the control set (existing feature), the other for the experiment set (new feature)\n",
    "- Evaluate how differently answers users are to determine the best version of the feature.\n",
    "\n",
    "**We can't use A/B Test when**:\n",
    "- Results may take too long to have\n",
    "- No data available for the experiment\n",
    "\n",
    "**In practice**:\n",
    "* Construct the user flow (the customer funnel)\n",
    "* Choose a metric :\n",
    "    - Click through rate: `nbClick/nbPageView`, to know usability of a feature\n",
    "    - Click through probability: `nbUniqueVisitorWhoClick/nbUniqueVisitorToPag`, to know impact of a feature\n",
    "* Perform experiment sizing\n",
    "* Analyze results\n",
    "* Draw conclusion\n",
    "\n",
    "\n",
    "\n",
    "#### Hypotheses testing\n",
    "How likely my result was obtain by chance? I have to calculate P(results due to chance)\n",
    "\n",
    "So we need to make an hypothesis of what the result would be if the experiment have no effect - this is called the **NULL HYPOTHESIS (H0)**\n",
    "\n",
    "If the experiment have no effect, that means the probability of the control groupe is equal to the probability of the experiement group. Or the difference between the two probabilities are null\n",
    "\n",
    "So **H0 : Pcont = Pexp, or Pcont-Pexp = 0**\n",
    "\n",
    "We also need an hypothesis of what the result would be if the experiement have an effect, which is the opposite to H0 - this is called the **ALTERNATIVE HYPOTHESIS (H1)**\n",
    "\n",
    "So **H1 : Pcont-Pexp != 0**\n",
    "\n",
    "Next steps:\n",
    "* measure Pcont & Pexp\n",
    "* Calculate hyp = Pcont-Pexp\n",
    "* Calculate the probability of this result (hyp) was due to chance if the H0 was true P(hyp|H0)\n",
    "* If we want to reject or accept an hypothesis at 95% of confidence, alpha = 1-0.05 = 0.05\n",
    "* If P(hyp|H0) < alpha, we accept H0 and reject H1\n",
    "\n",
    "****\n",
    "* TotalSucces = total nb of success through both group\n",
    "* TotalUsers = total nb of users\n",
    "##### Polled probability of a click:\n",
    "$$\\hat{P}_{pool} = \\frac{TotalSucces}{TotalUsers} = \\frac{X_{exp} + X_{cont}}{N_{exp} + N_{cont}}$$\n",
    "\n",
    "##### Polled standard error of a click :\n",
    "$$SE_{pool} = \\sqrt{\\hat{P}_{pool} * (1-\\hat{P}_{pool}) * (\\frac{1}{N_{cont}} + \\frac{1}{N_{exp}})}$$\n",
    "\n",
    "****\n",
    "##### Difference between Pexp & Pcont :\n",
    "$$ \\hat{d} = \\hat{P}_{exp} - \\hat{P}_{cont} $$\n",
    "\n",
    "****\n",
    "Under the null hypothesis:\n",
    "$$d = 0$$\n",
    "\n",
    "So We expect: \n",
    "$$\\hat{d} \\sim \\mathcal{N} (0,SE_{pool})$$\n",
    "\n",
    "****\n",
    "comparison to our Z-score\n",
    "- if:\n",
    "$$\\hat{d} > 1.96*SE_{pool}$$\n",
    "- or:\n",
    "$$\\hat{d} < -1.96*SE_{pool}$$\n",
    "We reject H0 and say that our diffenrence represent a statistically significant difference. That means, we reject the fact of our experiment has no effect."
   ]
  },
  {
   "cell_type": "markdown",
   "metadata": {},
   "source": [
    "### Experiment sizing"
   ]
  },
  {
   "cell_type": "code",
   "execution_count": 1,
   "metadata": {},
   "outputs": [
    {
     "data": {
      "text/plain": [
       "3834.5957398840183"
      ]
     },
     "execution_count": 1,
     "metadata": {},
     "output_type": "execute_result"
    }
   ],
   "source": [
    "from statsmodels.stats.power import NormalIndPower\n",
    "from statsmodels.stats.proportion import proportion_effectsize\n",
    "\n",
    "# current click through rate\n",
    "cctr = 0.1\n",
    "\n",
    "# And we want an at least a 2% increase on the new feature so (common value from business side)\n",
    "practical_significance = 0.02 \n",
    "\n",
    "# desired click through rate on new experiment\n",
    "dctr = cctr + practical_significance\n",
    "\n",
    "# how many data points (page views) we need to reliably to detect that kind of change ?\n",
    "# We have to compute the statistical power\n",
    "\n",
    "# leave out the \"nobs\" parameter to solve for it\n",
    "nip = NormalIndPower()\n",
    "nip.solve_power(effect_size = proportion_effectsize(dctr, cctr), alpha = .05, power = 0.8)"
   ]
  },
  {
   "cell_type": "code",
   "execution_count": null,
   "metadata": {},
   "outputs": [],
   "source": []
  }
 ],
 "metadata": {
  "kernelspec": {
   "display_name": "Python 3",
   "language": "python",
   "name": "python3"
  },
  "language_info": {
   "codemirror_mode": {
    "name": "ipython",
    "version": 3
   },
   "file_extension": ".py",
   "mimetype": "text/x-python",
   "name": "python",
   "nbconvert_exporter": "python",
   "pygments_lexer": "ipython3",
   "version": "3.6.7"
  }
 },
 "nbformat": 4,
 "nbformat_minor": 2
}
