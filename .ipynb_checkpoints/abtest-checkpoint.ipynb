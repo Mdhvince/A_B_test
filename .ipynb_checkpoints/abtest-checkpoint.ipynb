{
 "cells": [
  {
   "cell_type": "markdown",
   "metadata": {},
   "source": [
    "# A/B Test \n",
    "\n",
    "Use it in order to test a new product, new feature online.\n",
    "\n",
    "\n",
    "Before going to the technical details we have to pay attention at Policy and Ethics for Experiments. We should answer these questions to respect Ethics and policy:\n",
    "`1` Risk: What risk the participant being exposed to?\n",
    "`2` Benefit: What benefits might be the outcome of the study?\n",
    "`3` Choice: What other choices do participants have?\n",
    "\n",
    "\n",
    "\n",
    "\n",
    "\n",
    "\n",
    "\n",
    "\n",
    "**Steps**:\n",
    "- Randomly take 2 sets of users: 1 for the control set (existing feature), the other for the experiment set (new feature)\n",
    "- Evaluate how differently answers users are to determine the best version of the feature.\n",
    "\n",
    "**We can't use A/B Test when**:\n",
    "- Results may take too long to have\n",
    "- No data available for the experiment\n",
    "\n",
    "**In practice**:\n",
    "* Construct the user flow (the customer funnel)\n",
    "* Choose a metric :\n",
    "    - Click through rate: `nbClick/nbPageView`, to know usability of a feature\n",
    "    - Click through probability: `nbUniqueVisitorWhoClick/nbUniqueVisitorToPag`, to know impact of a feature\n",
    "* Perform experiment sizing\n",
    "* Analyze results\n",
    "* Draw conclusion\n",
    "\n",
    "\n",
    "\n",
    "#### Hypotheses testing\n",
    "How likely my result was obtain by chance? I have to calculate P(results due to chance)\n",
    "\n",
    "So we need to make an hypothesis of what the result would be if the experiment have no effect - this is called the **NULL HYPOTHESIS (H0)**\n",
    "\n",
    "If the experiment have no effect, that means the probability of the control groupe is equal to the probability of the experiement group. Or the difference between the two probabilities are null\n",
    "\n",
    "So **H0 : Pcont = Pexp, or Pcont-Pexp = 0**\n",
    "\n",
    "We also need an hypothesis of what the result would be if the experiement have an effect, which is the opposite to H0 - this is called the **ALTERNATIVE HYPOTHESIS (H1)**\n",
    "\n",
    "So **H1 : Pcont-Pexp != 0**\n",
    "\n",
    "Next steps:\n",
    "* measure Pcont & Pexp\n",
    "* Calculate hyp = Pcont-Pexp\n",
    "* Calculate the probability of this result (hyp) was due to chance if the H0 was true P(hyp|H0)\n",
    "* If we want to reject or accept an hypothesis at 95% of confidence, alpha = 1-0.05 = 0.05\n",
    "* If P(hyp|H0) < alpha, we accept H0 and reject H1\n",
    "\n",
    "****\n",
    "* TotalSucces = total nb of success through both group\n",
    "* TotalUsers = total nb of users\n",
    "##### Polled probability of a click:\n",
    "$$\\hat{P}_{pool} = \\frac{TotalSucces}{TotalUsers} = \\frac{X_{exp} + X_{cont}}{N_{exp} + N_{cont}}$$\n",
    "\n",
    "##### Polled standard error of a click :\n",
    "$$SE_{pool} = \\sqrt{\\hat{P}_{pool} * (1-\\hat{P}_{pool}) * (\\frac{1}{N_{cont}} + \\frac{1}{N_{exp}})}$$\n",
    "\n",
    "****\n",
    "##### Difference between Pexp & Pcont :\n",
    "$$ \\hat{d} = \\hat{P}_{exp} - \\hat{P}_{cont} $$\n",
    "\n",
    "****\n",
    "Under the null hypothesis:\n",
    "$$d = 0$$\n",
    "\n",
    "So We expect: \n",
    "$$\\hat{d} \\sim \\mathcal{N} (0,SE_{pool})$$\n",
    "\n",
    "****\n",
    "comparison to our Z-score\n",
    "- if:\n",
    "$$\\hat{d} > 1.96*SE_{pool}$$\n",
    "- or:\n",
    "$$\\hat{d} < -1.96*SE_{pool}$$\n",
    "We reject H0 and say that our diffenrence represent a statistically significant difference. That means, we reject the fact of our experiment has no effect."
   ]
  },
  {
   "cell_type": "markdown",
   "metadata": {},
   "source": [
    "### Design Experiment \n",
    "##### Find the size (nb of data points, here nb of page views) by using the statistical power. That refere to the minimum nb of data points to have in order to make sure that we have enough power to conclude with high probability that our interesting result is, in fact, statistically significant."
   ]
  },
  {
   "cell_type": "code",
   "execution_count": 15,
   "metadata": {},
   "outputs": [
    {
     "data": {
      "text/plain": [
       "3834.5957398840183"
      ]
     },
     "execution_count": 15,
     "metadata": {},
     "output_type": "execute_result"
    }
   ],
   "source": [
    "from statsmodels.stats.power import NormalIndPower\n",
    "from statsmodels.stats.proportion import proportion_effectsize\n",
    "import numpy as np\n",
    "from scipy import stats\n",
    "\n",
    "# current click through rate (baseline conversion rate)\n",
    "cctr = 0.1\n",
    "\n",
    "# And we want an at least a 2% increase on the new feature so (common value from business side)\n",
    "practical_significance = 0.02 \n",
    "\n",
    "# desired click through rate on new experiment\n",
    "dctr = cctr + practical_significance\n",
    "\n",
    "# how many data points (page views) we need to reliably to detect that kind of change ?\n",
    "# We have to compute the statistical power\n",
    "\n",
    "# leave out the \"nobs\" parameter to solve for it\n",
    "nip = NormalIndPower()\n",
    "\n",
    "# Go from cctr to dctr\n",
    "pe = proportion_effectsize(cctr, dctr)\n",
    "\n",
    "nip.solve_power(effect_size = pe, alpha = .05, power = 0.8)"
   ]
  },
  {
   "cell_type": "markdown",
   "metadata": {},
   "source": [
    "* Once we have the minimum size of data points, we can collect some data and do the following\n",
    "\n",
    "### Analyze"
   ]
  },
  {
   "cell_type": "code",
   "execution_count": 18,
   "metadata": {},
   "outputs": [
    {
     "name": "stdout",
     "output_type": "stream",
     "text": [
      "\n",
      "Confidence Interval: (0.020210660302896456, 0.03764628777733894)\n"
     ]
    }
   ],
   "source": [
    "# So now we have\n",
    "N_cont = 10072 # total success\n",
    "X_cont = 974 # total users\n",
    "N_exp = 9886\n",
    "X_exp = 1242\n",
    "p_exp = X_exp/N_exp\n",
    "p_cont = X_cont/N_cont\n",
    "\n",
    "P_pool = (X_cont + X_exp) / (N_cont + N_exp)\n",
    "SE_pool = np.sqrt(P_pool * (1-P_pool) * ((1/N_cont)+(1/N_exp)))\n",
    "\n",
    "d = abs(p_exp-p_cont)\n",
    "\n",
    "# test H0, so d will be tested\n",
    "interval_conf = stats.norm.interval(0.95, loc=d, scale=SE_pool)\n",
    "\n",
    "print(f\"\\nConfidence Interval: {interval_conf}\")"
   ]
  },
  {
   "cell_type": "markdown",
   "metadata": {},
   "source": [
    "### Draw conclusion"
   ]
  },
  {
   "cell_type": "code",
   "execution_count": 24,
   "metadata": {},
   "outputs": [
    {
     "name": "stdout",
     "output_type": "stream",
     "text": [
      "Test statistically significant: The result will be enough to take a decision\n",
      "\n",
      "YES we can launch the product 🚀\n"
     ]
    }
   ],
   "source": [
    "error_margin = SE_pool*1.96\n",
    "if d > error_margin:\n",
    "    print(\"Test statistically significant: The result will be enough to take a decision\")\n",
    "    \n",
    "if interval_conf[0] >= practical_significance:\n",
    "    print(\"\\nYES we can launch the product 🚀\")"
   ]
  },
  {
   "cell_type": "markdown",
   "metadata": {},
   "source": [
    "##### A common value from business side for the level of practical significance is 2%.\n",
    "##### And we can see that, refere to our confidence interval, we have at least 2.02, so we can launch the product.\n",
    "\n",
    "##### In other words, It is highly probable that the click through probability change by at least 2.02% (practical significance level) and we can be confident that we have at least that big of a change at the 95% level."
   ]
  },
  {
   "cell_type": "code",
   "execution_count": 25,
   "metadata": {},
   "outputs": [
    {
     "data": {
      "text/plain": [
       "0.008717973932038056"
      ]
     },
     "execution_count": 25,
     "metadata": {},
     "output_type": "execute_result"
    }
   ],
   "source": [
    "error_margin"
   ]
  },
  {
   "cell_type": "code",
   "execution_count": null,
   "metadata": {},
   "outputs": [],
   "source": []
  },
  {
   "cell_type": "code",
   "execution_count": null,
   "metadata": {},
   "outputs": [],
   "source": []
  },
  {
   "cell_type": "code",
   "execution_count": null,
   "metadata": {},
   "outputs": [],
   "source": []
  },
  {
   "cell_type": "code",
   "execution_count": null,
   "metadata": {},
   "outputs": [],
   "source": []
  }
 ],
 "metadata": {
  "kernelspec": {
   "display_name": "Python 3",
   "language": "python",
   "name": "python3"
  },
  "language_info": {
   "codemirror_mode": {
    "name": "ipython",
    "version": 3
   },
   "file_extension": ".py",
   "mimetype": "text/x-python",
   "name": "python",
   "nbconvert_exporter": "python",
   "pygments_lexer": "ipython3",
   "version": "3.6.7"
  }
 },
 "nbformat": 4,
 "nbformat_minor": 2
}
